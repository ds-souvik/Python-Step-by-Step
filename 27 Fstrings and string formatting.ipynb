{
 "cells": [
  {
   "cell_type": "markdown",
   "metadata": {},
   "source": [
    "### <font color=\"brown\"> Below mentioned are few string formatting techniques and then 4th and 5th formatting techniques is called Fstrings."
   ]
  },
  {
   "cell_type": "code",
   "execution_count": 1,
   "metadata": {},
   "outputs": [
    {
     "name": "stdout",
     "output_type": "stream",
     "text": [
      "Phone number of Souvik\n"
     ]
    }
   ],
   "source": [
    "name=\"Souvik\"\n",
    "phone=\"9879912043\"\n",
    "\n",
    "\n",
    "# 1st formatting technique\n",
    "a=\"Phone number of %s\"%name\n",
    "print(a)"
   ]
  },
  {
   "cell_type": "code",
   "execution_count": 2,
   "metadata": {},
   "outputs": [
    {
     "name": "stdout",
     "output_type": "stream",
     "text": [
      "Phone number of Souvik is 9879912043\n"
     ]
    }
   ],
   "source": [
    "# 2nd formatting technique\n",
    "b=\"Phone number of %s is %s\"%(name,phone)\n",
    "print(b)"
   ]
  },
  {
   "cell_type": "code",
   "execution_count": 3,
   "metadata": {},
   "outputs": [
    {
     "name": "stdout",
     "output_type": "stream",
     "text": [
      "Phone number of Souvik is 9879912043\n",
      "So the phone number 9879912043 belongs to Souvik\n"
     ]
    }
   ],
   "source": [
    "#3rd formatting technique\n",
    "c=\"Phone number of {} is {}\"\n",
    "d=c.format(name,phone)\n",
    "print(d)\n",
    "c=\"So the phone number {1} belongs to {0}\"\n",
    "d=c.format(name,phone)\n",
    "print(d)"
   ]
  },
  {
   "cell_type": "code",
   "execution_count": 4,
   "metadata": {},
   "outputs": [
    {
     "name": "stdout",
     "output_type": "stream",
     "text": [
      "This is Souvik's number: 9879912043\n"
     ]
    }
   ],
   "source": [
    "# 4th formatting technique: This is fstring\n",
    "e=f\"This is {name}'s number: {phone}\"\n",
    "print(e)"
   ]
  },
  {
   "cell_type": "code",
   "execution_count": 5,
   "metadata": {},
   "outputs": [
    {
     "name": "stdout",
     "output_type": "stream",
     "text": [
      "The value of cos45 is: 0.15425144988758405\n"
     ]
    }
   ],
   "source": [
    "import math\n",
    "# Fstring can also be used to shove numbers, mathematicals functions etc\n",
    "g=f\"The value of cos45 is: {math.cos(30)}\"\n",
    "print(g)"
   ]
  }
 ],
 "metadata": {
  "kernelspec": {
   "display_name": "Python 3",
   "language": "python",
   "name": "python3"
  },
  "language_info": {
   "codemirror_mode": {
    "name": "ipython",
    "version": 3
   },
   "file_extension": ".py",
   "mimetype": "text/x-python",
   "name": "python",
   "nbconvert_exporter": "python",
   "pygments_lexer": "ipython3",
   "version": "3.8.3"
  }
 },
 "nbformat": 4,
 "nbformat_minor": 4
}
