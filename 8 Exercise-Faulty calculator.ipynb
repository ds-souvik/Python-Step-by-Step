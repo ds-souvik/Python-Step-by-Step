{
 "cells": [
  {
   "cell_type": "code",
   "execution_count": 2,
   "metadata": {},
   "outputs": [
    {
     "name": "stdout",
     "output_type": "stream",
     "text": [
      "Please enter the first number: 56\n",
      "Please enter the second number: 9\n",
      "Please enter the operator: +\n",
      "Your output is:  77\n"
     ]
    }
   ],
   "source": [
    "\"\"\"Design a calculator which will correctly solve all the problems except\n",
    "the following ones:\n",
    "45 * 3 = 555, 56+9 = 77, 56/6 = 4\n",
    "Your program should take operator  and the two numbers as input from the user\n",
    "and then return the result\"\"\"\n",
    "\n",
    "input1=int(input(\"Please enter the first number: \"))\n",
    "input2=int(input(\"Please enter the second number: \"))\n",
    "oper=input(\"Please enter the operator: \")\n",
    "\n",
    "if oper==\"+\":\n",
    "    if input1==56 and input2==9:\n",
    "        output=77\n",
    "    else:\n",
    "        output=input1+input2\n",
    "elif oper==\"*\":\n",
    "    if input1==45 and input2==3:\n",
    "        output=555\n",
    "    else:\n",
    "        output=input1*input2\n",
    "elif oper==\"/\":\n",
    "    if input1==56 and input2==6:\n",
    "        output=4\n",
    "    else:\n",
    "        output=input1/input2\n",
    "elif oper==\"-\":\n",
    "    output=input1-input2\n",
    "else:\n",
    "    print(\"Wrong operation\")\n",
    "\n",
    "print(\"Your output is: \",output)"
   ]
  }
 ],
 "metadata": {
  "kernelspec": {
   "display_name": "Python 3",
   "language": "python",
   "name": "python3"
  },
  "language_info": {
   "codemirror_mode": {
    "name": "ipython",
    "version": 3
   },
   "file_extension": ".py",
   "mimetype": "text/x-python",
   "name": "python",
   "nbconvert_exporter": "python",
   "pygments_lexer": "ipython3",
   "version": "3.8.3"
  }
 },
 "nbformat": 4,
 "nbformat_minor": 4
}
