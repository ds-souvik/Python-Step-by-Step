{
 "cells": [
  {
   "cell_type": "code",
   "execution_count": 1,
   "metadata": {},
   "outputs": [
    {
     "name": "stdout",
     "output_type": "stream",
     "text": [
      "Souvik\n",
      "Atanu\n",
      "Sayli\n",
      "Deepak\n"
     ]
    }
   ],
   "source": [
    "#to print elements of a lists individually\n",
    "list=[\"Souvik\", \"Atanu\", \"Sayli\", \"Deepak\"]\n",
    "for items in list:\n",
    "    print(items)"
   ]
  },
  {
   "cell_type": "code",
   "execution_count": 2,
   "metadata": {},
   "outputs": [
    {
     "name": "stdout",
     "output_type": "stream",
     "text": [
      "-------------------------------------\n",
      "Souvik\n",
      "Atanu\n",
      "Sayli\n",
      "Deepak\n"
     ]
    }
   ],
   "source": [
    "print(\"-------------------------------------\")\n",
    "#to print elements of a tuple individually\n",
    "tuple=(\"Souvik\", \"Atanu\", \"Sayli\", \"Deepak\")\n",
    "for i in list:\n",
    "    print(i)"
   ]
  },
  {
   "cell_type": "code",
   "execution_count": 5,
   "metadata": {},
   "outputs": [
    {
     "name": "stdout",
     "output_type": "stream",
     "text": [
      "-------------------------------------\n",
      "[['Souvik', 1], ['Atanu', 10], ['Sayli', 18], ['Deepak', 26]]\n",
      "Souvik eats 1 chocolates every day\n",
      "Atanu eats 10 chocolates every day\n",
      "Sayli eats 18 chocolates every day\n",
      "Deepak eats 26 chocolates every day\n"
     ]
    }
   ],
   "source": [
    "print(\"-------------------------------------\")\n",
    "#to print elements of lists of lists individually\n",
    "list1=[[\"Souvik\",1], [\"Atanu\",10], [\"Sayli\",18], [\"Deepak\",26]]\n",
    "print(list1)\n",
    "for names,num_of_chocolates in list1:\n",
    "    print(names,\"eats\",num_of_chocolates,\"chocolates every day\")"
   ]
  },
  {
   "cell_type": "code",
   "execution_count": 4,
   "metadata": {},
   "outputs": [
    {
     "name": "stdout",
     "output_type": "stream",
     "text": [
      "-------------------------------------\n",
      "{'Souvik': 1, 'Atanu': 10, 'Sayli': 18, 'Deepak': 26}\n",
      "Print only the keys of the dictionary\n",
      "Souvik\n",
      "Atanu\n",
      "Sayli\n",
      "Deepak\n",
      "--------------------------------------\n",
      "Print the keys and values of the dictionary\n",
      "Souvik eats 1 chocolates every day\n",
      "Atanu eats 10 chocolates every day\n",
      "Sayli eats 18 chocolates every day\n",
      "Deepak eats 26 chocolates every day\n"
     ]
    }
   ],
   "source": [
    "print(\"-------------------------------------\")\n",
    "dict1=dict(list1)   #to typecast a list of list to a dictionary\n",
    "print(dict1)\n",
    "print(\"Print only the keys of the dictionary\")\n",
    "for keys in dict1:\n",
    "    print(keys)\n",
    "print(\"--------------------------------------\")\n",
    "print(\"Print the keys and values of the dictionary\")  #for this specially the items functions needs to be used.\n",
    "for key, value in dict1.items():\n",
    "    print(key,\"eats\",value,\"chocolates every day\")"
   ]
  },
  {
   "cell_type": "code",
   "execution_count": 6,
   "metadata": {},
   "outputs": [
    {
     "name": "stdout",
     "output_type": "stream",
     "text": [
      "--------------------------------------\n",
      "While loop\n",
      "--------------------------------------\n",
      "Number is:  0\n",
      "Number is:  1\n",
      "Number is:  2\n",
      "Number is:  3\n",
      "Number is:  4\n",
      "Number is:  5\n"
     ]
    }
   ],
   "source": [
    "print(\"--------------------------------------\")\n",
    "print(\"While loop\")\n",
    "print(\"--------------------------------------\")\n",
    "m=0\n",
    "while(m<6):\n",
    "    print(\"Number is: \", m)\n",
    "    m+=1"
   ]
  }
 ],
 "metadata": {
  "kernelspec": {
   "display_name": "Python 3",
   "language": "python",
   "name": "python3"
  },
  "language_info": {
   "codemirror_mode": {
    "name": "ipython",
    "version": 3
   },
   "file_extension": ".py",
   "mimetype": "text/x-python",
   "name": "python",
   "nbconvert_exporter": "python",
   "pygments_lexer": "ipython3",
   "version": "3.8.3"
  }
 },
 "nbformat": 4,
 "nbformat_minor": 4
}
