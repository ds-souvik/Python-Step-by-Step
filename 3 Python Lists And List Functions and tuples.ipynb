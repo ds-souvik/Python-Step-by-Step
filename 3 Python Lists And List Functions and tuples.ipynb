{
 "cells": [
  {
   "cell_type": "code",
   "execution_count": 1,
   "metadata": {},
   "outputs": [
    {
     "name": "stdout",
     "output_type": "stream",
     "text": [
      "5\n",
      "<class 'list'>\n",
      "['Harpic', 'vim bar', 'deodrant', 'cheese', 'Lollypop']\n",
      "['Harpic', 'vim bar', 'deodrant', 'cheese', 'Lollypop', 56]\n",
      "<class 'list'>\n",
      "['Harpic', 'vim bar', 'deodrant', 'cheese', 'Lollypop', 'Bread']\n",
      "[1, 2, 3, 4, 5, 6]\n",
      "<class 'list'>\n",
      "Bread\n",
      "['Bread', 'Harpic', 'Lollypop', 'cheese', 'deodrant', 'vim bar']\n",
      "['vim bar', 'deodrant', 'cheese', 'Lollypop', 'Harpic', 'Bread']\n",
      "                            \n",
      "*********Slicing************\n",
      "                            \n",
      "['vim bar', 'deodrant', 'cheese', 'Lollypop', 'Harpic', 'Bread']\n",
      "['vim bar', 'deodrant', 'cheese', 'Lollypop', 'Harpic', 'Bread']\n",
      "['vim bar', 'deodrant', 'cheese', 'Lollypop', 'Harpic', 'Bread']\n",
      "['Bread', 'Harpic', 'Lollypop', 'cheese', 'deodrant', 'vim bar']\n",
      "['vim bar', 'deodrant', 'cheese', 'Lollypop', 'Harpic', 'Bread']\n"
     ]
    }
   ],
   "source": [
    "grocery = [\"Harpic\", \"vim bar\", \"deodrant\", \"cheese\",\n",
    "           \"Lollypop\"]         #define a list\n",
    "print(len(grocery))            #length function\n",
    "print(type(grocery))           #type function\n",
    "print(grocery)\n",
    "grocery.append(56)             #append an element at the end\n",
    "print(grocery)\n",
    "print(type(grocery))\n",
    "grocery[5]=\"Bread\"             #replacing an element in the list\n",
    "print(grocery)\n",
    "list1=[1,2,3,4,5,\n",
    "       6]\n",
    "print(list1)\n",
    "print(type(list1))\n",
    "print(grocery[5])             #printing an index\n",
    "grocery.sort()                #sorting the list\n",
    "print(grocery)\n",
    "grocery.reverse()             #reversing the list\n",
    "print(grocery)\n",
    "print(\"                            \")\n",
    "print(\"*********Slicing************\")\n",
    "print(\"                            \")\n",
    "print(grocery[0:])\n",
    "print(grocery[:])\n",
    "print(grocery[:len(grocery)])\n",
    "print(grocery[::-1])\n",
    "print(grocery)"
   ]
  },
  {
   "cell_type": "code",
   "execution_count": 2,
   "metadata": {},
   "outputs": [
    {
     "name": "stdout",
     "output_type": "stream",
     "text": [
      "[2, 9, 7, 11, 3, 9]\n",
      "[2, 7, 11, 3, 9]\n",
      "[2, 7, 11, 3]\n",
      "[2, 3, 7, 11]\n"
     ]
    }
   ],
   "source": [
    "#Working with a list having just integers\n",
    "numbers = [2, 9, 7, 11, 3, 9]\n",
    "print(numbers)\n",
    "numbers.remove(9)   #removes only the first occurence of 9\n",
    "print(numbers)\n",
    "numbers.pop()       #removes the last element of the list\n",
    "print(numbers)\n",
    "numbers.sort()      #sorts the list in ascending order\n",
    "print(numbers)"
   ]
  },
  {
   "cell_type": "code",
   "execution_count": 3,
   "metadata": {},
   "outputs": [
    {
     "name": "stdout",
     "output_type": "stream",
     "text": [
      "[1, 72, 67, 5]\n",
      "[1, 98, 67, 5]\n",
      "(1, 2, 3, 4, 5)\n",
      "<class 'int'>\n",
      "1\n",
      "(1,)\n",
      "8 1\n"
     ]
    }
   ],
   "source": [
    "numbers1 = []\n",
    "numbers1.reverse()\n",
    "numbers1.append(1)\n",
    "numbers1.append(72)\n",
    "numbers1.append(5)\n",
    "numbers1.insert(2, 67)\n",
    "print(numbers1)\n",
    "numbers1[1] = 98\n",
    "print(numbers1)\n",
    "# Mutable - can change\n",
    "# Immutable - cannot change\n",
    "tuple1=(1,2,3,4,5)\n",
    "print(tuple1)\n",
    "tp=(1)\n",
    "print(type(tp))        #if tuple is defined with a single value without a comma in the end, it's not a tuple\n",
    "print(tp)\n",
    "tp1 = (1,)             #single value tuple\n",
    "print(tp1)\n",
    "a= 1\n",
    "b = 8\n",
    "a, b = b,a\n",
    "# temp = a\n",
    "# a = b\n",
    "# b = temp\n",
    "print(a, b)\n"
   ]
  },
  {
   "cell_type": "code",
   "execution_count": 4,
   "metadata": {},
   "outputs": [
    {
     "name": "stdout",
     "output_type": "stream",
     "text": [
      "Updated animals list:  ['cat', 'dog', 'rabbit', ['tiger', 'fox']]\n"
     ]
    }
   ],
   "source": [
    "#appending list in a list\n",
    "# animals list\n",
    "animals = ['cat', 'dog', 'rabbit']\n",
    "\n",
    "# list of wild animals\n",
    "wild_animals = ['tiger', 'fox']\n",
    "\n",
    "# appending wild_animals list to the animals list\n",
    "animals.append(wild_animals)\n",
    "\n",
    "print('Updated animals list: ', animals)"
   ]
  },
  {
   "cell_type": "code",
   "execution_count": 5,
   "metadata": {},
   "outputs": [
    {
     "name": "stdout",
     "output_type": "stream",
     "text": [
      "The count of i is: 2\n",
      "The count of p is: 0\n"
     ]
    }
   ],
   "source": [
    "#count method\n",
    "# vowels list\n",
    "vowels = ['a', 'e', 'i', 'o', 'i', 'u']\n",
    "\n",
    "# count element 'i'\n",
    "count = vowels.count('i')\n",
    "\n",
    "# print count\n",
    "print('The count of i is:', count)\n",
    "\n",
    "# count element 'p'\n",
    "count = vowels.count('p')\n",
    "\n",
    "# print count\n",
    "print('The count of p is:', count)\n"
   ]
  },
  {
   "cell_type": "code",
   "execution_count": 6,
   "metadata": {},
   "outputs": [
    {
     "name": "stdout",
     "output_type": "stream",
     "text": [
      "Language List: ['French', 'English', 'Spanish', 'Portuguese']\n",
      "[1, 2, 3, 4]\n",
      "[1, 2, (3, 4)]\n"
     ]
    }
   ],
   "source": [
    "#extend() method:\n",
    "# language list\n",
    "language = ['French', 'English']\n",
    "\n",
    "# another list of language\n",
    "language1 = ['Spanish', 'Portuguese']\n",
    "\n",
    "# appending language1 elements to language\n",
    "language.extend(language1)\n",
    "\n",
    "print('Language List:', language)\n",
    "\n",
    "\n",
    "#extend vs append\n",
    "\n",
    "a1 = [1, 2]\n",
    "a2 = [1, 2]\n",
    "b = (3, 4)\n",
    "\n",
    "# a1 = [1, 2, 3, 4]\n",
    "a1.extend(b) \n",
    "print(a1)\n",
    "\n",
    "# a2 = [1, 2, (3, 4)]\n",
    "a2.append(b)\n",
    "print(a2)"
   ]
  }
 ],
 "metadata": {
  "kernelspec": {
   "display_name": "Python 3",
   "language": "python",
   "name": "python3"
  },
  "language_info": {
   "codemirror_mode": {
    "name": "ipython",
    "version": 3
   },
   "file_extension": ".py",
   "mimetype": "text/x-python",
   "name": "python",
   "nbconvert_exporter": "python",
   "pygments_lexer": "ipython3",
   "version": "3.8.3"
  }
 },
 "nbformat": 4,
 "nbformat_minor": 4
}
