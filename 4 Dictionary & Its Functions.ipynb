{
 "cells": [
  {
   "cell_type": "code",
   "execution_count": 1,
   "metadata": {},
   "outputs": [
    {
     "name": "stdout",
     "output_type": "stream",
     "text": [
      "<class 'dict'>\n"
     ]
    }
   ],
   "source": [
    "# Dictionary is nothing but key value pairs\n",
    "d1 = {}                 #an empty dictionary d1 is defined\n",
    "print(type(d1))"
   ]
  },
  {
   "cell_type": "code",
   "execution_count": 2,
   "metadata": {},
   "outputs": [
    {
     "name": "stdout",
     "output_type": "stream",
     "text": [
      "{'Harry': 'Burger', 'Rohan': 'Fish', 'SkillF': 'Roti', 'Shubham': {'B': 'maggie', 'L': 'roti', 'D': 'Chicken'}}\n",
      "Burger\n",
      "maggie\n"
     ]
    }
   ],
   "source": [
    "d2 = {\"Harry\":\"Burger\",\n",
    "      \"Rohan\":\"Fish\",\n",
    "      \"SkillF\":\"Roti\",\n",
    "      \"Shubham\":{\"B\":\"maggie\", \"L\":\"roti\", \"D\":\"Chicken\"}}\n",
    "#Value of a key in a dictionary can either be list, tuple or dictionary but KEYS ARE IMMUTABLE.\n",
    "\n",
    "print(d2)\n",
    "print(d2[\"Harry\"])      #get the value of the key \"Harry\"\n",
    "print(d2[\"Shubham\"][\"B\"])"
   ]
  },
  {
   "cell_type": "code",
   "execution_count": 3,
   "metadata": {},
   "outputs": [
    {
     "name": "stdout",
     "output_type": "stream",
     "text": [
      "{'Harry': 'Burger', 'Rohan': 'Fish', 'SkillF': 'Roti', 'Shubham': {'B': 'maggie', 'L': 'roti', 'D': 'Chicken'}, 'Ankit': 'Junk Food', 420: 'Kebabs', 'Manan': 'Bhakhri'}\n",
      "{'Harry': 'Burger', 'Rohan': 'Fish', 'SkillF': 'Roti', 'Shubham': {'B': 'maggie', 'L': 'roti', 'D': 'Chicken'}, 'Ankit': 'Junk Food', 'Manan': 'Bhakhri'}\n",
      "{'B': 'maggie', 'L': 'roti', 'D': 'Chicken'}\n"
     ]
    }
   ],
   "source": [
    "d2[\"Ankit\"] = \"Junk Food\"  #Adding one more key value pair\n",
    "d2[420] = \"Kebabs\"       #Keys need not be of the same datatype\n",
    "d2.update({\"Manan\":\"Bhakhri\"})  #Adding one more key value pair using update() method.\n",
    "print(d2)\n",
    "del d2[420]              #deletes the key value pair od 420\n",
    "print(d2)\n",
    "print(d2[\"Shubham\"])"
   ]
  },
  {
   "cell_type": "code",
   "execution_count": 4,
   "metadata": {},
   "outputs": [
    {
     "name": "stdout",
     "output_type": "stream",
     "text": [
      "{'Harry': 'Burger', 'Rohan': 'Fish', 'SkillF': 'Roti', 'Shubham': {'B': 'maggie', 'L': 'roti', 'D': 'Chicken'}, 'Ankit': 'Junk Food', 'Manan': 'Bhakhri'}\n"
     ]
    }
   ],
   "source": [
    "copydic=d2\n",
    "d3 = d2.copy()\n",
    "\"\"\"Difference between copydic and d3 is that when a key value pair is deleted from copydic, it deletes in\n",
    "d2 as well but same is not the case with d3. Hence while copying a dictionary, copy() method should be used.\"\"\"\n",
    "del d3[\"Harry\"]\n",
    "print(d2)"
   ]
  },
  {
   "cell_type": "code",
   "execution_count": 5,
   "metadata": {},
   "outputs": [
    {
     "name": "stdout",
     "output_type": "stream",
     "text": [
      "Burger\n",
      "dict_keys(['Harry', 'Rohan', 'SkillF', 'Shubham', 'Ankit', 'Manan', 'Leena'])\n",
      "dict_items([('Harry', 'Burger'), ('Rohan', 'Fish'), ('SkillF', 'Roti'), ('Shubham', {'B': 'maggie', 'L': 'roti', 'D': 'Chicken'}), ('Ankit', 'Junk Food'), ('Manan', 'Bhakhri'), ('Leena', 'Toffee')])\n"
     ]
    }
   ],
   "source": [
    "print(d2.get(\"Harry\"))\n",
    "d2.update({\"Leena\":\"Toffee\"})\n",
    "print(d2.keys())          #To get all the keys\n",
    "print(d2.items())         #To display the key-value pairs."
   ]
  }
 ],
 "metadata": {
  "kernelspec": {
   "display_name": "Python 3",
   "language": "python",
   "name": "python3"
  },
  "language_info": {
   "codemirror_mode": {
    "name": "ipython",
    "version": 3
   },
   "file_extension": ".py",
   "mimetype": "text/x-python",
   "name": "python",
   "nbconvert_exporter": "python",
   "pygments_lexer": "ipython3",
   "version": "3.8.3"
  }
 },
 "nbformat": 4,
 "nbformat_minor": 4
}
