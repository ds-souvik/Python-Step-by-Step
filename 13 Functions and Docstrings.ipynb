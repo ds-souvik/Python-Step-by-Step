{
 "cells": [
  {
   "cell_type": "code",
   "execution_count": 2,
   "metadata": {},
   "outputs": [
    {
     "name": "stdout",
     "output_type": "stream",
     "text": [
      "17\n"
     ]
    }
   ],
   "source": [
    "a=9\n",
    "b=8\n",
    "sum_value=sum((a,b))   #build in function\n",
    "#built in sum function always takes the values in list or tuple as argument.\n",
    "print(sum_value)"
   ]
  },
  {
   "cell_type": "code",
   "execution_count": 3,
   "metadata": {},
   "outputs": [
    {
     "name": "stdout",
     "output_type": "stream",
     "text": [
      "Hello You're in func 1\n"
     ]
    }
   ],
   "source": [
    "#User-defined functions.\n",
    "def func1():\n",
    "    print(\"Hello You're in func 1\")\n",
    "\n",
    "func1()"
   ]
  },
  {
   "cell_type": "code",
   "execution_count": 4,
   "metadata": {},
   "outputs": [
    {
     "name": "stdout",
     "output_type": "stream",
     "text": [
      "The sum of the values is:  30\n"
     ]
    }
   ],
   "source": [
    "def summation(c,d):\n",
    "    print(\"The sum of the values is: \", c+d)\n",
    "\n",
    "summation(10,20)"
   ]
  },
  {
   "cell_type": "code",
   "execution_count": 8,
   "metadata": {},
   "outputs": [
    {
     "name": "stdout",
     "output_type": "stream",
     "text": [
      "The average is:  6.0\n",
      "**************Printing Doc String**************\n",
      "Docstring: This function calculates average of 2 numbers\n",
      "This Function cannot be used for more than 2 numbers\n"
     ]
    }
   ],
   "source": [
    "#docstrings: Doc-strings can be considered as a short documentation of a function that can be referred whenever required.\n",
    "def average(e,f):\n",
    "    \"\"\"Docstring: This function calculates average of 2 numbers\n",
    "This Function cannot be used for more than 2 numbers\"\"\"\n",
    "    average=(e+f)/2\n",
    "    return average\n",
    "\n",
    "v=average(7,5)\n",
    "print(\"The average is: \", v)\n",
    "print(\"**************Printing Doc String**************\")\n",
    "print(average.__doc__)"
   ]
  }
 ],
 "metadata": {
  "kernelspec": {
   "display_name": "Python 3",
   "language": "python",
   "name": "python3"
  },
  "language_info": {
   "codemirror_mode": {
    "name": "ipython",
    "version": 3
   },
   "file_extension": ".py",
   "mimetype": "text/x-python",
   "name": "python",
   "nbconvert_exporter": "python",
   "pygments_lexer": "ipython3",
   "version": "3.8.3"
  }
 },
 "nbformat": 4,
 "nbformat_minor": 4
}
