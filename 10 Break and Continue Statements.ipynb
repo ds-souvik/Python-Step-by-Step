{
 "cells": [
  {
   "cell_type": "markdown",
   "metadata": {},
   "source": [
    "### If we put while(True) or while(1) the while loop becomes an infinite loop"
   ]
  },
  {
   "cell_type": "code",
   "execution_count": 3,
   "metadata": {},
   "outputs": [],
   "source": [
    "# i=0\n",
    "# while(True):\n",
    "#     print(i, end=\" \")\n",
    "#     i=i+1\n",
    "\n",
    "# i=0\n",
    "# while(1):\n",
    "#     print(i, end=\" \")\n",
    "#     i=i+1"
   ]
  },
  {
   "cell_type": "markdown",
   "metadata": {},
   "source": [
    "### Break command is used to break the loop"
   ]
  },
  {
   "cell_type": "code",
   "execution_count": null,
   "metadata": {},
   "outputs": [],
   "source": [
    "# i=0\n",
    "# while(True):\n",
    "#     print(i, end=\" \")\n",
    "#     if i==20:\n",
    "#         break #stop the loop\n",
    "#     i=i+1"
   ]
  },
  {
   "cell_type": "markdown",
   "metadata": {},
   "source": [
    "### Continue command is used to ignore the below code and go for the next iteration"
   ]
  },
  {
   "cell_type": "code",
   "execution_count": 4,
   "metadata": {},
   "outputs": [
    {
     "name": "stdout",
     "output_type": "stream",
     "text": [
      "5 6 7 8 9 10 11 12 13 14 15 16 17 18 19 20 "
     ]
    }
   ],
   "source": [
    "#I want to print numbers between 5-20\n",
    "i=0\n",
    "while(True):\n",
    "    if i<5:\n",
    "        i=i+1\n",
    "        continue\n",
    "    print(i, end=\" \")\n",
    "    if i==20:\n",
    "        break #stop the loop\n",
    "    i=i+1"
   ]
  }
 ],
 "metadata": {
  "kernelspec": {
   "display_name": "Python 3",
   "language": "python",
   "name": "python3"
  },
  "language_info": {
   "codemirror_mode": {
    "name": "ipython",
    "version": 3
   },
   "file_extension": ".py",
   "mimetype": "text/x-python",
   "name": "python",
   "nbconvert_exporter": "python",
   "pygments_lexer": "ipython3",
   "version": "3.8.3"
  }
 },
 "nbformat": 4,
 "nbformat_minor": 4
}
