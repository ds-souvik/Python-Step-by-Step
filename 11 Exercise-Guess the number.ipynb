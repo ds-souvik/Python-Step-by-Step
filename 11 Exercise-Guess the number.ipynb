{
 "cells": [
  {
   "cell_type": "code",
   "execution_count": 1,
   "metadata": {},
   "outputs": [
    {
     "name": "stdout",
     "output_type": "stream",
     "text": [
      "Welcome to the game\n",
      "You have to guess a 2 digit number and the number of guesses is 9\n",
      "If you guess the correct number in 9 guesses, you win\n",
      "Whenever you guess the incorrect number, I will tell you if the correct number is smaller or greater\n",
      "Let's start the game\n"
     ]
    }
   ],
   "source": [
    "print(\"Welcome to the game\")\n",
    "print(\"You have to guess a 2 digit number and the number of guesses is 9\")\n",
    "print(\"If you guess the correct number in 9 guesses, you win\")\n",
    "print(\"Whenever you guess the incorrect number, I will tell you if the correct number is smaller or greater\")\n",
    "print(\"Let's start the game\")"
   ]
  },
  {
   "cell_type": "code",
   "execution_count": 2,
   "metadata": {},
   "outputs": [
    {
     "name": "stdout",
     "output_type": "stream",
     "text": [
      "Guess the number: 44\n",
      "Incorrect answer. The number is smaller than you guessed\n",
      "Guess the number: 34\n",
      "Incorrect answer. The number is smaller than you guessed\n",
      "Guess the number: 24\n",
      "Incorrect answer. The number is smaller than you guessed\n",
      "Guess the number: 14\n",
      "Incorrect answer. The number is greater than you guessed\n",
      "Guess the number: 20\n",
      "Incorrect answer. The number is smaller than you guessed\n",
      "Guess the number: 17\n",
      "Incorrect answer. The number is greater than you guessed\n",
      "Guess the number: 18\n",
      "Congratulations you have guessed the correct answer\n"
     ]
    }
   ],
   "source": [
    "n =18\n",
    "i=1\n",
    "game=\"\"\n",
    "while(i<=9):\n",
    "    i=i+1\n",
    "    inp = int(input(\"Guess the number: \"))\n",
    "    if inp<18:\n",
    "        print(\"Incorrect answer. The number is greater than you guessed\")\n",
    "    elif inp>18:\n",
    "        print(\"Incorrect answer. The number is smaller than you guessed\")\n",
    "    else:\n",
    "        game=\"Won\"\n",
    "        break\n",
    "if game==\"Won\":\n",
    "    print(\"Congratulations you have guessed the correct answer\")\n",
    "else:\n",
    "    print(\"Better luck next time\")"
   ]
  }
 ],
 "metadata": {
  "kernelspec": {
   "display_name": "Python 3",
   "language": "python",
   "name": "python3"
  },
  "language_info": {
   "codemirror_mode": {
    "name": "ipython",
    "version": 3
   },
   "file_extension": ".py",
   "mimetype": "text/x-python",
   "name": "python",
   "nbconvert_exporter": "python",
   "pygments_lexer": "ipython3",
   "version": "3.8.3"
  }
 },
 "nbformat": 4,
 "nbformat_minor": 4
}
