{
 "cells": [
  {
   "cell_type": "code",
   "execution_count": 1,
   "metadata": {},
   "outputs": [
    {
     "name": "stdout",
     "output_type": "stream",
     "text": [
      "Enter your number:\n",
      "84\n",
      "Greater\n"
     ]
    }
   ],
   "source": [
    "var1= 56\n",
    "\n",
    "print(\"Enter your number:\")\n",
    "var2=int(input())\n",
    "\n",
    "if var2>var1:\n",
    "    print(\"Greater\")\n",
    "elif var2==var1:\n",
    "    print(\"Equal\")\n",
    "else:\n",
    "    print(\"Smaller\")"
   ]
  },
  {
   "cell_type": "code",
   "execution_count": 2,
   "metadata": {},
   "outputs": [
    {
     "name": "stdout",
     "output_type": "stream",
     "text": [
      "True\n",
      "It is in list\n",
      "It is not in list\n"
     ]
    }
   ],
   "source": [
    "list=[4,5,3,9]\n",
    "print(3 in list)\n",
    "if 3 in list:\n",
    "    print(\"It is in list\")\n",
    "if 20 not in list:\n",
    "    print(\"It is not in list\")"
   ]
  },
  {
   "cell_type": "code",
   "execution_count": 3,
   "metadata": {},
   "outputs": [
    {
     "name": "stdout",
     "output_type": "stream",
     "text": [
      "***************************************************\n",
      "***To check if the person can drive based on age***\n",
      "***************************************************\n",
      "Please enter your age:\n",
      "20\n",
      "You can drive\n"
     ]
    }
   ],
   "source": [
    "print(\"***************************************************\")\n",
    "print(\"***To check if the person can drive based on age***\")\n",
    "print(\"***************************************************\")\n",
    "print(\"Please enter your age:\")\n",
    "age=int(input())\n",
    "if age>18:\n",
    "    print(\"You can drive\")\n",
    "elif age==18:\n",
    "    print(\"We are unable to take a call. Please visit us fir test\")\n",
    "else:\n",
    "    print(\"You cannot drive legally\")"
   ]
  }
 ],
 "metadata": {
  "kernelspec": {
   "display_name": "Python 3",
   "language": "python",
   "name": "python3"
  },
  "language_info": {
   "codemirror_mode": {
    "name": "ipython",
    "version": 3
   },
   "file_extension": ".py",
   "mimetype": "text/x-python",
   "name": "python",
   "nbconvert_exporter": "python",
   "pygments_lexer": "ipython3",
   "version": "3.8.3"
  }
 },
 "nbformat": 4,
 "nbformat_minor": 4
}
