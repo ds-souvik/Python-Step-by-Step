{
 "cells": [
  {
   "cell_type": "markdown",
   "metadata": {},
   "source": [
    "### <font color=\"brown\">Here random module demonstration is done which is an inbuilt function. To look into the source code import random and then press ctrl and then click on random. randon.py will open in pycharmor else refer python documentation for python modules.</font>\n",
    "\n",
    "### <font color=\"brown\"> For using modules which are not available inbuilt, they need to be downloaded and installed into the system. Either use pip install in command prompt or if you're using pycharm go to terminal and write pip install module_name.</font>"
   ]
  },
  {
   "cell_type": "code",
   "execution_count": 2,
   "metadata": {},
   "outputs": [
    {
     "name": "stdout",
     "output_type": "stream",
     "text": [
      "8\n"
     ]
    }
   ],
   "source": [
    "import random\n",
    "\n",
    "random_num=random.randint(0,20)\n",
    "print(random_num)"
   ]
  },
  {
   "cell_type": "code",
   "execution_count": 3,
   "metadata": {},
   "outputs": [
    {
     "name": "stdout",
     "output_type": "stream",
     "text": [
      "71.30374265994769\n"
     ]
    }
   ],
   "source": [
    "random_num2=random.random()*100\n",
    "print(random_num2)"
   ]
  },
  {
   "cell_type": "code",
   "execution_count": 4,
   "metadata": {},
   "outputs": [
    {
     "name": "stdout",
     "output_type": "stream",
     "text": [
      "Souvik\n"
     ]
    }
   ],
   "source": [
    "list1=[\"Souvik\", \"Sayli\", \"Atanu\", \"Abhi\"]\n",
    "random_name=random.choice(list1)\n",
    "print(random_name)"
   ]
  }
 ],
 "metadata": {
  "kernelspec": {
   "display_name": "Python 3",
   "language": "python",
   "name": "python3"
  },
  "language_info": {
   "codemirror_mode": {
    "name": "ipython",
    "version": 3
   },
   "file_extension": ".py",
   "mimetype": "text/x-python",
   "name": "python",
   "nbconvert_exporter": "python",
   "pygments_lexer": "ipython3",
   "version": "3.8.3"
  }
 },
 "nbformat": 4,
 "nbformat_minor": 4
}
