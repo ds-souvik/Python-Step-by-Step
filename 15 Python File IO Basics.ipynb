{
 "cells": [
  {
   "cell_type": "markdown",
   "metadata": {},
   "source": [
    "## <font color=\"Brown\"> Python File IO Basics</font>\n",
    "\n",
    "### r : r mode opens a file for read-only. We do not have permission to update or change any data in this mode.\n",
    "### w : w mode does not concern itself with what is present in the file. It just opens a file for writing and if there is already some data present in the file, it overwrites it.\n",
    "### x : x is used to create a new file. It does not work for an already existing file, as in such cases the operation fails.\n",
    "### a : a stands for append, which means to add something to the end of the file. It does exactly the same. It just adds the data we like in write(w) mode but instead of overwriting it just adds it to the end of the file. It also does not have the permission of reading the file.\n",
    "### t : t mode is used to open our file in text mode and only proper text files can be opened by it. It deals with the file data as a string.\n",
    "### b : b stands for binary and this mode can only open the binary files, that are read in bytes. The binary files include images, documents, or all other files that require specific software to be read.\n",
    "### + : In plus mode, we can read and write a file simultaneously. The mode is mostly used in cases where we want to update our file."
   ]
  }
 ],
 "metadata": {
  "kernelspec": {
   "display_name": "Python 3",
   "language": "python",
   "name": "python3"
  },
  "language_info": {
   "codemirror_mode": {
    "name": "ipython",
    "version": 3
   },
   "file_extension": ".py",
   "mimetype": "text/x-python",
   "name": "python",
   "nbconvert_exporter": "python",
   "pygments_lexer": "ipython3",
   "version": "3.8.3"
  }
 },
 "nbformat": 4,
 "nbformat_minor": 4
}
