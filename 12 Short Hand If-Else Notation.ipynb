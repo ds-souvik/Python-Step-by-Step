{
 "cells": [
  {
   "cell_type": "code",
   "execution_count": 1,
   "metadata": {},
   "outputs": [
    {
     "name": "stdout",
     "output_type": "stream",
     "text": [
      "Enter your first number: \n",
      "33\n",
      "Enter your second number: \n",
      "21\n",
      "First number is greater than second number\n"
     ]
    }
   ],
   "source": [
    "a=int(input(\"Enter your first number: \\n\"))\n",
    "b=int(input(\"Enter your second number: \\n\"))\n",
    "\n",
    "#If you need single if statement:\n",
    "\n",
    "if a>b: print(\"First number is greater than second number\")"
   ]
  },
  {
   "cell_type": "code",
   "execution_count": 2,
   "metadata": {},
   "outputs": [
    {
     "name": "stdout",
     "output_type": "stream",
     "text": [
      "Enter your third number: \n",
      "22\n",
      "Enter your fourth number: \n",
      "44\n",
      "Fourth number is greater than third number\n"
     ]
    }
   ],
   "source": [
    "#If you need if-else conditional statement:\n",
    "\n",
    "c=int(input(\"Enter your third number: \\n\"))\n",
    "d=int(input(\"Enter your fourth number: \\n\"))\n",
    "\n",
    "print(\"Third number is greater than fourth number\") if c>d else print(\"Fourth number is greater than third number\")"
   ]
  }
 ],
 "metadata": {
  "kernelspec": {
   "display_name": "Python 3",
   "language": "python",
   "name": "python3"
  },
  "language_info": {
   "codemirror_mode": {
    "name": "ipython",
    "version": 3
   },
   "file_extension": ".py",
   "mimetype": "text/x-python",
   "name": "python",
   "nbconvert_exporter": "python",
   "pygments_lexer": "ipython3",
   "version": "3.8.3"
  }
 },
 "nbformat": 4,
 "nbformat_minor": 4
}
