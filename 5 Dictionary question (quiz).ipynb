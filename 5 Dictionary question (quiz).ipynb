{
 "cells": [
  {
   "cell_type": "code",
   "execution_count": 1,
   "metadata": {},
   "outputs": [
    {
     "name": "stdout",
     "output_type": "stream",
     "text": [
      "Enter the key you want to search:\n",
      "C\n",
      "The value of key C is Curd\n"
     ]
    }
   ],
   "source": [
    "dict1={\"A\": \"Apple\",\n",
    "       \"B\": \"Banana\",\n",
    "       \"C\": \"Curd\",\n",
    "       \"D\" : \"Dimsum\"}\n",
    "\n",
    "print(\"Enter the key you want to search:\")\n",
    "a=input()\n",
    "print(\"The value of key\",a,\"is\",dict1[a])\n"
   ]
  },
  {
   "cell_type": "code",
   "execution_count": null,
   "metadata": {},
   "outputs": [],
   "source": []
  }
 ],
 "metadata": {
  "kernelspec": {
   "display_name": "Python 3",
   "language": "python",
   "name": "python3"
  },
  "language_info": {
   "codemirror_mode": {
    "name": "ipython",
    "version": 3
   },
   "file_extension": ".py",
   "mimetype": "text/x-python",
   "name": "python",
   "nbconvert_exporter": "python",
   "pygments_lexer": "ipython3",
   "version": "3.8.3"
  }
 },
 "nbformat": 4,
 "nbformat_minor": 4
}
