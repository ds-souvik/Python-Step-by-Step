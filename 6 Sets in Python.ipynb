{
 "cells": [
  {
   "cell_type": "code",
   "execution_count": 1,
   "metadata": {},
   "outputs": [
    {
     "name": "stdout",
     "output_type": "stream",
     "text": [
      "<class 'set'>\n"
     ]
    }
   ],
   "source": [
    "s = set()                      #define an empty set\n",
    "print(type(s))                 #type function\n",
    "l = [1, 2, 3, 4]"
   ]
  },
  {
   "cell_type": "code",
   "execution_count": 2,
   "metadata": {},
   "outputs": [
    {
     "name": "stdout",
     "output_type": "stream",
     "text": [
      "{1, 2, 3, 4}\n",
      "{2, 3, 4, 5}\n",
      "<class 'set'>\n"
     ]
    }
   ],
   "source": [
    "s_from_list = set(l)           #defining a set using list. It can be defined only by using list.\n",
    "print(s_from_list)\n",
    "s_from_list2=set([2,3,4,5])\n",
    "print(s_from_list2)\n",
    "print(type(s_from_list))"
   ]
  },
  {
   "cell_type": "code",
   "execution_count": 3,
   "metadata": {},
   "outputs": [
    {
     "name": "stdout",
     "output_type": "stream",
     "text": [
      "{1}\n",
      "{1}\n",
      "{1, 2}\n",
      "{1}\n"
     ]
    }
   ],
   "source": [
    "s.add(1)                      #adding an element to the set.\n",
    "print(s)\n",
    "s.add(1)\n",
    "print(s)\n",
    "s.add(2)\n",
    "print(s)\n",
    "s.remove(2)                   #removing an element from the set.\n",
    "print(s)"
   ]
  },
  {
   "cell_type": "code",
   "execution_count": 4,
   "metadata": {},
   "outputs": [
    {
     "name": "stdout",
     "output_type": "stream",
     "text": [
      "************************************\n",
      "Set functions\n",
      "*************************************\n",
      "{1, 2, 3, 4, 5} {2, 3, 4}\n"
     ]
    }
   ],
   "source": [
    "print(\"************************************\")\n",
    "print(\"Set functions\")\n",
    "print(\"*************************************\")\n",
    "s2=s_from_list.union(s_from_list2)        #union function\n",
    "s3=s_from_list.intersection(s_from_list2) #intersection function\n",
    "print(s2,s3)"
   ]
  },
  {
   "cell_type": "code",
   "execution_count": 5,
   "metadata": {},
   "outputs": [
    {
     "name": "stdout",
     "output_type": "stream",
     "text": [
      "True\n"
     ]
    }
   ],
   "source": [
    "s1 = {4, 6}\n",
    "print(s.isdisjoint(s1))                   #disjoint set."
   ]
  }
 ],
 "metadata": {
  "kernelspec": {
   "display_name": "Python 3",
   "language": "python",
   "name": "python3"
  },
  "language_info": {
   "codemirror_mode": {
    "name": "ipython",
    "version": 3
   },
   "file_extension": ".py",
   "mimetype": "text/x-python",
   "name": "python",
   "nbconvert_exporter": "python",
   "pygments_lexer": "ipython3",
   "version": "3.8.3"
  }
 },
 "nbformat": 4,
 "nbformat_minor": 4
}
