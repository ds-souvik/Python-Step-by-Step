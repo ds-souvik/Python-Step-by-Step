{
 "cells": [
  {
   "cell_type": "code",
   "execution_count": 2,
   "metadata": {},
   "outputs": [
    {
     "name": "stdout",
     "output_type": "stream",
     "text": [
      "19\n",
      "Harry is a good bo\n",
      "Harry\n",
      "Hry\n",
      "Harry is a good boy\n",
      "Harry\n",
      "Harry is a good boy\n",
      "Hriao y\n",
      "yob doog a si yrraH\n",
      "ybdo  iyrH\n",
      "False\n",
      "False\n",
      "True\n",
      "False\n",
      "3\n",
      "Harry is a good boy\n",
      "6\n",
      "harry is a good boy\n",
      "HARRY IS A GOOD BOY\n",
      "Harry are a good boy\n"
     ]
    }
   ],
   "source": [
    "mystr = \"Harry is a good boy\"\n",
    "mystr23 = \"Harry is a good boy   \"\n",
    "print(len(mystr))      #len function to get length of a variable\n",
    "var1=mystr[0:-1]\n",
    "print(var1)\n",
    "print(mystr[0:5])      #indexing starts from 0 and while slicing it will return value till index 4th excluding the 5th index.\n",
    "print(mystr[0:5:2])    #print till 4th index and alternate character\n",
    "print(mystr[0:])\n",
    "print(mystr[:5])\n",
    "print(mystr[:])\n",
    "print(mystr[::3])\n",
    "print(mystr[::-1])\n",
    "print(mystr[::-2])\n",
    "print(mystr23.rstrip())\n",
    "\n",
    "print(mystr.isalnum()) #to check if mystr is alpha-numeric\n",
    "print(mystr.isalpha())\n",
    "\n",
    "print(mystr.endswith(\"boy\")) #to check if mystr ends with 'boy'\n",
    "print(mystr.endswith(\"bdoy\"))\n",
    "print(mystr.count(\"o\"))      #to count number of 'o'\n",
    "print(mystr.capitalize())    #to capitalize the first character\n",
    "print(mystr.find(\"is\"))      #to find at which index there's 'is'\n",
    "print(mystr.lower())         #to change the entire string to lower case\n",
    "print(mystr.upper())         #to change the entire string to upper case\n",
    "print(mystr.replace(\"is\", \"are\"))\n"
   ]
  }
 ],
 "metadata": {
  "kernelspec": {
   "display_name": "Python 3",
   "language": "python",
   "name": "python3"
  },
  "language_info": {
   "codemirror_mode": {
    "name": "ipython",
    "version": 3
   },
   "file_extension": ".py",
   "mimetype": "text/x-python",
   "name": "python",
   "nbconvert_exporter": "python",
   "pygments_lexer": "ipython3",
   "version": "3.8.3"
  }
 },
 "nbformat": 4,
 "nbformat_minor": 4
}
